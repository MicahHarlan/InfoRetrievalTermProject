{
 "cells": [
  {
   "cell_type": "code",
   "id": "initial_id",
   "metadata": {
    "collapsed": true,
    "ExecuteTime": {
     "end_time": "2024-04-18T14:28:05.450629Z",
     "start_time": "2024-04-18T14:28:05.447828Z"
    }
   },
   "source": [
    "import numpy as np\n",
    "import pandas as pd"
   ],
   "outputs": [],
   "execution_count": 25
  },
  {
   "metadata": {
    "ExecuteTime": {
     "end_time": "2024-04-18T14:28:08.277623Z",
     "start_time": "2024-04-18T14:28:05.994211Z"
    }
   },
   "cell_type": "code",
   "source": "df = pd.read_csv('./ml-25m/genome-scores.csv')",
   "id": "e9021a1235fc0745",
   "outputs": [],
   "execution_count": 26
  },
  {
   "metadata": {
    "ExecuteTime": {
     "end_time": "2024-04-18T14:28:08.883515Z",
     "start_time": "2024-04-18T14:28:08.878461Z"
    }
   },
   "cell_type": "code",
   "source": "print(df.head())",
   "id": "fd001d8fa875f609",
   "outputs": [
    {
     "name": "stdout",
     "output_type": "stream",
     "text": [
      "   movieId  tagId  relevance\n",
      "0        1      1    0.02875\n",
      "1        1      2    0.02375\n",
      "2        1      3    0.06250\n",
      "3        1      4    0.07575\n",
      "4        1      5    0.14075\n"
     ]
    }
   ],
   "execution_count": 27
  },
  {
   "metadata": {
    "ExecuteTime": {
     "end_time": "2024-04-18T14:28:10.223978Z",
     "start_time": "2024-04-18T14:28:10.055785Z"
    }
   },
   "cell_type": "code",
   "source": "sorted_relevance = df[df['relevance'] > 0.5].sort_values(by=['movieId', 'relevance'], ascending=[True, False])",
   "id": "e3584becc42388c9",
   "outputs": [],
   "execution_count": 28
  },
  {
   "metadata": {
    "ExecuteTime": {
     "end_time": "2024-04-18T14:28:11.244994Z",
     "start_time": "2024-04-18T14:28:11.182502Z"
    }
   },
   "cell_type": "code",
   "source": "movie_id_names = pd.read_csv('./ml-25m/movies.csv')",
   "id": "cdd8835e44c3fae9",
   "outputs": [],
   "execution_count": 29
  },
  {
   "metadata": {
    "ExecuteTime": {
     "end_time": "2024-04-18T14:28:11.997276Z",
     "start_time": "2024-04-18T14:28:11.992761Z"
    }
   },
   "cell_type": "code",
   "source": "print(movie_id_names.head())",
   "id": "17adc3e2c9dc9922",
   "outputs": [
    {
     "name": "stdout",
     "output_type": "stream",
     "text": [
      "   movieId                               title  \\\n",
      "0        1                    Toy Story (1995)   \n",
      "1        2                      Jumanji (1995)   \n",
      "2        3             Grumpier Old Men (1995)   \n",
      "3        4            Waiting to Exhale (1995)   \n",
      "4        5  Father of the Bride Part II (1995)   \n",
      "\n",
      "                                        genres  \n",
      "0  Adventure|Animation|Children|Comedy|Fantasy  \n",
      "1                   Adventure|Children|Fantasy  \n",
      "2                               Comedy|Romance  \n",
      "3                         Comedy|Drama|Romance  \n",
      "4                                       Comedy  \n"
     ]
    }
   ],
   "execution_count": 30
  },
  {
   "metadata": {
    "ExecuteTime": {
     "end_time": "2024-04-18T14:28:13.051619Z",
     "start_time": "2024-04-18T14:28:13.015024Z"
    }
   },
   "cell_type": "code",
   "source": "movie_tags = pd.merge(sorted_relevance, movie_id_names, on='movieId')",
   "id": "d88878e0894e5656",
   "outputs": [],
   "execution_count": 31
  },
  {
   "metadata": {
    "ExecuteTime": {
     "end_time": "2024-04-18T14:28:14.095729Z",
     "start_time": "2024-04-18T14:28:14.090460Z"
    }
   },
   "cell_type": "code",
   "source": "tags = pd.read_csv('./ml-25m/genome-tags.csv')",
   "id": "30db7c1fb2d5a8d8",
   "outputs": [],
   "execution_count": 32
  },
  {
   "metadata": {
    "ExecuteTime": {
     "end_time": "2024-04-18T14:28:14.644024Z",
     "start_time": "2024-04-18T14:28:14.611969Z"
    }
   },
   "cell_type": "code",
   "source": "movie_tags = pd.merge(movie_tags, tags, on='tagId')",
   "id": "d50dd2a146045b3a",
   "outputs": [],
   "execution_count": 33
  },
  {
   "metadata": {
    "ExecuteTime": {
     "end_time": "2024-04-18T14:28:16.463125Z",
     "start_time": "2024-04-18T14:28:16.457574Z"
    }
   },
   "cell_type": "code",
   "source": "print(movie_tags.head())",
   "id": "322d7c7d78418ed2",
   "outputs": [
    {
     "name": "stdout",
     "output_type": "stream",
     "text": [
      "   movieId  tagId  relevance             title  \\\n",
      "0        1   1036    0.99925  Toy Story (1995)   \n",
      "1        1    244    0.99875  Toy Story (1995)   \n",
      "2        1    786    0.99575  Toy Story (1995)   \n",
      "3        1    589    0.98575  Toy Story (1995)   \n",
      "4        1     64    0.98425  Toy Story (1995)   \n",
      "\n",
      "                                        genres                 tag  \n",
      "0  Adventure|Animation|Children|Comedy|Fantasy                toys  \n",
      "1  Adventure|Animation|Children|Comedy|Fantasy  computer animation  \n",
      "2  Adventure|Animation|Children|Comedy|Fantasy     pixar animation  \n",
      "3  Adventure|Animation|Children|Comedy|Fantasy     kids and family  \n",
      "4  Adventure|Animation|Children|Comedy|Fantasy           animation  \n"
     ]
    }
   ],
   "execution_count": 34
  },
  {
   "metadata": {
    "ExecuteTime": {
     "end_time": "2024-04-18T14:28:17.846589Z",
     "start_time": "2024-04-18T14:28:17.674100Z"
    }
   },
   "cell_type": "code",
   "source": [
    "simple_movie_tags = movie_tags.groupby('movieId').agg({\n",
    "    'tag': lambda x: '|'.join(x), \n",
    "    'title': 'first',\n",
    "    'genres': 'first'\n",
    "}).reset_index()"
   ],
   "id": "a9641781897e57d7",
   "outputs": [],
   "execution_count": 35
  },
  {
   "metadata": {
    "ExecuteTime": {
     "end_time": "2024-04-18T14:28:19.076667Z",
     "start_time": "2024-04-18T14:28:19.057937Z"
    }
   },
   "cell_type": "code",
   "source": "links = pd.read_csv('./ml-25m/links.csv')",
   "id": "f060f4a0279c5db2",
   "outputs": [],
   "execution_count": 36
  },
  {
   "metadata": {
    "ExecuteTime": {
     "end_time": "2024-04-18T14:28:20.865080Z",
     "start_time": "2024-04-18T14:28:20.857905Z"
    }
   },
   "cell_type": "code",
   "source": "simple_movie_tags_with_ids = pd.merge(simple_movie_tags, links, on='movieId')",
   "id": "92735c791fbb5d99",
   "outputs": [],
   "execution_count": 37
  },
  {
   "metadata": {
    "ExecuteTime": {
     "end_time": "2024-04-18T14:28:22.517583Z",
     "start_time": "2024-04-18T14:28:22.513154Z"
    }
   },
   "cell_type": "code",
   "source": "simple_movie_tags_with_ids = simple_movie_tags_with_ids[['imdbId', 'title', 'genres', 'tag']]",
   "id": "2ae406c8fb61b960",
   "outputs": [],
   "execution_count": 38
  },
  {
   "metadata": {
    "ExecuteTime": {
     "end_time": "2024-04-18T14:28:23.019183Z",
     "start_time": "2024-04-18T14:28:23.014924Z"
    }
   },
   "cell_type": "code",
   "source": "simple_movie_tags_with_ids.head(5)",
   "id": "f9ff8bce6c20b737",
   "outputs": [
    {
     "data": {
      "text/plain": [
       "   imdbId                               title  \\\n",
       "0  114709                    Toy Story (1995)   \n",
       "1  113497                      Jumanji (1995)   \n",
       "2  113228             Grumpier Old Men (1995)   \n",
       "3  114885            Waiting to Exhale (1995)   \n",
       "4  113041  Father of the Bride Part II (1995)   \n",
       "\n",
       "                                        genres  \\\n",
       "0  Adventure|Animation|Children|Comedy|Fantasy   \n",
       "1                   Adventure|Children|Fantasy   \n",
       "2                               Comedy|Romance   \n",
       "3                         Comedy|Drama|Romance   \n",
       "4                                       Comedy   \n",
       "\n",
       "                                                 tag  \n",
       "0  toys|computer animation|pixar animation|kids a...  \n",
       "1  adventure|children|fantasy|kids|special effect...  \n",
       "2  sequel|good sequel|sequels|comedy|original|gun...  \n",
       "3  women|chick flick|divorce|girlie movie|romanti...  \n",
       "4  sequel|good sequel|father daughter relationshi...  "
      ],
      "text/html": [
       "<div>\n",
       "<style scoped>\n",
       "    .dataframe tbody tr th:only-of-type {\n",
       "        vertical-align: middle;\n",
       "    }\n",
       "\n",
       "    .dataframe tbody tr th {\n",
       "        vertical-align: top;\n",
       "    }\n",
       "\n",
       "    .dataframe thead th {\n",
       "        text-align: right;\n",
       "    }\n",
       "</style>\n",
       "<table border=\"1\" class=\"dataframe\">\n",
       "  <thead>\n",
       "    <tr style=\"text-align: right;\">\n",
       "      <th></th>\n",
       "      <th>imdbId</th>\n",
       "      <th>title</th>\n",
       "      <th>genres</th>\n",
       "      <th>tag</th>\n",
       "    </tr>\n",
       "  </thead>\n",
       "  <tbody>\n",
       "    <tr>\n",
       "      <th>0</th>\n",
       "      <td>114709</td>\n",
       "      <td>Toy Story (1995)</td>\n",
       "      <td>Adventure|Animation|Children|Comedy|Fantasy</td>\n",
       "      <td>toys|computer animation|pixar animation|kids a...</td>\n",
       "    </tr>\n",
       "    <tr>\n",
       "      <th>1</th>\n",
       "      <td>113497</td>\n",
       "      <td>Jumanji (1995)</td>\n",
       "      <td>Adventure|Children|Fantasy</td>\n",
       "      <td>adventure|children|fantasy|kids|special effect...</td>\n",
       "    </tr>\n",
       "    <tr>\n",
       "      <th>2</th>\n",
       "      <td>113228</td>\n",
       "      <td>Grumpier Old Men (1995)</td>\n",
       "      <td>Comedy|Romance</td>\n",
       "      <td>sequel|good sequel|sequels|comedy|original|gun...</td>\n",
       "    </tr>\n",
       "    <tr>\n",
       "      <th>3</th>\n",
       "      <td>114885</td>\n",
       "      <td>Waiting to Exhale (1995)</td>\n",
       "      <td>Comedy|Drama|Romance</td>\n",
       "      <td>women|chick flick|divorce|girlie movie|romanti...</td>\n",
       "    </tr>\n",
       "    <tr>\n",
       "      <th>4</th>\n",
       "      <td>113041</td>\n",
       "      <td>Father of the Bride Part II (1995)</td>\n",
       "      <td>Comedy</td>\n",
       "      <td>sequel|good sequel|father daughter relationshi...</td>\n",
       "    </tr>\n",
       "  </tbody>\n",
       "</table>\n",
       "</div>"
      ]
     },
     "execution_count": 39,
     "metadata": {},
     "output_type": "execute_result"
    }
   ],
   "execution_count": 39
  },
  {
   "metadata": {
    "ExecuteTime": {
     "end_time": "2024-04-18T14:28:24.254780Z",
     "start_time": "2024-04-18T14:28:24.246344Z"
    }
   },
   "cell_type": "code",
   "source": "simple_movie_tags_with_ids['imdbId'] = simple_movie_tags_with_ids['imdbId'].apply(lambda x: 'tt' + str(x).zfill(7))",
   "id": "ea17a691327ff99e",
   "outputs": [],
   "execution_count": 40
  },
  {
   "metadata": {
    "ExecuteTime": {
     "end_time": "2024-04-18T14:28:25.147892Z",
     "start_time": "2024-04-18T14:28:25.053822Z"
    }
   },
   "cell_type": "code",
   "source": "simple_movie_tags_with_ids.to_csv('./movie_tags.csv', index=False)",
   "id": "aad6c5c2434d6f55",
   "outputs": [],
   "execution_count": 41
  },
  {
   "metadata": {
    "ExecuteTime": {
     "end_time": "2024-04-18T14:28:26.625763Z",
     "start_time": "2024-04-18T14:28:26.621880Z"
    }
   },
   "cell_type": "code",
   "source": [
    "import sqlite3\n",
    "conn = sqlite3.connect('../fastapi/query/movie.db')\n",
    "cursor = conn.cursor()"
   ],
   "id": "eed842efded50248",
   "outputs": [],
   "execution_count": 42
  },
  {
   "metadata": {
    "ExecuteTime": {
     "end_time": "2024-04-18T14:28:30.492012Z",
     "start_time": "2024-04-18T14:28:30.463016Z"
    }
   },
   "cell_type": "code",
   "source": "movie_id_in_db = pd.read_sql_query('SELECT MovieID FROM Movie', conn)",
   "id": "da8e99deda52ee6a",
   "outputs": [],
   "execution_count": 43
  },
  {
   "metadata": {
    "ExecuteTime": {
     "end_time": "2024-04-18T14:24:18.515117Z",
     "start_time": "2024-04-18T14:24:18.508909Z"
    }
   },
   "cell_type": "code",
   "source": [
    "# delete from simple_movie_tags_with_ids where imdbId not in (select imdbId from Movie);\n",
    "simple_movie_tags_with_ids_in_database = simple_movie_tags_with_ids[simple_movie_tags_with_ids['imdbId'].isin(movie_id_in_db['MovieID'])]"
   ],
   "id": "f3ce0a32e5e34fd",
   "outputs": [],
   "execution_count": 20
  },
  {
   "metadata": {
    "ExecuteTime": {
     "end_time": "2024-04-18T14:24:18.589620Z",
     "start_time": "2024-04-18T14:24:18.516008Z"
    }
   },
   "cell_type": "code",
   "source": "simple_movie_tags_with_ids_in_database.to_csv('./movie_tags_in_database.csv', index=False)",
   "id": "fcf610cff24ba4b0",
   "outputs": [],
   "execution_count": 21
  },
  {
   "metadata": {
    "ExecuteTime": {
     "end_time": "2024-04-18T14:24:18.591491Z",
     "start_time": "2024-04-18T14:24:18.590366Z"
    }
   },
   "cell_type": "code",
   "source": "",
   "id": "a13dd4ce93738ab7",
   "outputs": [],
   "execution_count": 21
  },
  {
   "metadata": {
    "ExecuteTime": {
     "end_time": "2024-04-18T14:24:18.593627Z",
     "start_time": "2024-04-18T14:24:18.592371Z"
    }
   },
   "cell_type": "code",
   "source": "",
   "id": "cddf422f89d35e62",
   "outputs": [],
   "execution_count": 21
  }
 ],
 "metadata": {
  "kernelspec": {
   "display_name": "Python 3",
   "language": "python",
   "name": "python3"
  },
  "language_info": {
   "codemirror_mode": {
    "name": "ipython",
    "version": 2
   },
   "file_extension": ".py",
   "mimetype": "text/x-python",
   "name": "python",
   "nbconvert_exporter": "python",
   "pygments_lexer": "ipython2",
   "version": "2.7.6"
  }
 },
 "nbformat": 4,
 "nbformat_minor": 5
}
