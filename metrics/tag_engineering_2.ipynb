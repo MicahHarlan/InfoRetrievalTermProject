{
 "cells": [
  {
   "cell_type": "code",
   "id": "initial_id",
   "metadata": {
    "collapsed": true,
    "ExecuteTime": {
     "end_time": "2024-04-23T02:50:58.743558Z",
     "start_time": "2024-04-23T02:50:58.205793Z"
    }
   },
   "source": [
    "import numpy as np\n",
    "import pandas as pd"
   ],
   "outputs": [],
   "execution_count": 1
  },
  {
   "metadata": {
    "ExecuteTime": {
     "end_time": "2024-04-23T02:51:01.632198Z",
     "start_time": "2024-04-23T02:50:59.518230Z"
    }
   },
   "cell_type": "code",
   "source": "df = pd.read_csv('./ml-25m/genome-scores.csv')",
   "id": "e9021a1235fc0745",
   "outputs": [],
   "execution_count": 2
  },
  {
   "metadata": {
    "ExecuteTime": {
     "end_time": "2024-04-23T02:51:01.718966Z",
     "start_time": "2024-04-23T02:51:01.633115Z"
    }
   },
   "cell_type": "code",
   "source": "sorted_relevance = df[df['relevance'] > 0.5].sort_values(by=['movieId', 'relevance'], ascending=[True, False])",
   "id": "e3584becc42388c9",
   "outputs": [],
   "execution_count": 3
  },
  {
   "metadata": {
    "ExecuteTime": {
     "end_time": "2024-04-23T02:51:01.762010Z",
     "start_time": "2024-04-23T02:51:01.719563Z"
    }
   },
   "cell_type": "code",
   "source": "movie_id_names = pd.read_csv('./ml-25m/movies.csv')",
   "id": "cdd8835e44c3fae9",
   "outputs": [],
   "execution_count": 4
  },
  {
   "metadata": {
    "ExecuteTime": {
     "end_time": "2024-04-23T02:53:28.288010Z",
     "start_time": "2024-04-23T02:53:28.248821Z"
    }
   },
   "cell_type": "code",
   "source": "movie_tags = pd.merge(sorted_relevance, movie_id_names, on='movieId')",
   "id": "d88878e0894e5656",
   "outputs": [],
   "execution_count": 11
  },
  {
   "metadata": {
    "ExecuteTime": {
     "end_time": "2024-04-23T02:53:29.371684Z",
     "start_time": "2024-04-23T02:53:29.365472Z"
    }
   },
   "cell_type": "code",
   "source": "tags = pd.read_csv('./ml-25m/genome-tags.csv')",
   "id": "30db7c1fb2d5a8d8",
   "outputs": [],
   "execution_count": 12
  },
  {
   "metadata": {
    "ExecuteTime": {
     "end_time": "2024-04-23T02:53:29.844644Z",
     "start_time": "2024-04-23T02:53:29.831034Z"
    }
   },
   "cell_type": "code",
   "source": "links = pd.read_csv('./ml-25m/links.csv')",
   "id": "f060f4a0279c5db2",
   "outputs": [],
   "execution_count": 13
  },
  {
   "metadata": {
    "ExecuteTime": {
     "end_time": "2024-04-23T02:53:30.807042Z",
     "start_time": "2024-04-23T02:53:30.771320Z"
    }
   },
   "cell_type": "code",
   "source": "movie_tags = pd.merge(movie_tags, tags, on='tagId')",
   "id": "d50dd2a146045b3a",
   "outputs": [],
   "execution_count": 14
  },
  {
   "metadata": {
    "ExecuteTime": {
     "end_time": "2024-04-23T02:53:31.462136Z",
     "start_time": "2024-04-23T02:53:31.421533Z"
    }
   },
   "cell_type": "code",
   "source": "movie_tags = pd.merge(movie_tags, links, on='movieId')",
   "id": "125eb5d5ccc03454",
   "outputs": [],
   "execution_count": 15
  },
  {
   "metadata": {
    "ExecuteTime": {
     "end_time": "2024-04-23T02:53:31.956090Z",
     "start_time": "2024-04-23T02:53:31.939705Z"
    }
   },
   "cell_type": "code",
   "source": "movie_tags = movie_tags[['imdbId', 'title', 'genres', 'tag']]",
   "id": "6da90a31c3106cbc",
   "outputs": [],
   "execution_count": 16
  },
  {
   "metadata": {
    "ExecuteTime": {
     "end_time": "2024-04-23T02:53:32.745677Z",
     "start_time": "2024-04-23T02:53:32.630135Z"
    }
   },
   "cell_type": "code",
   "source": "movie_tags['imdbId'] = movie_tags['imdbId'].apply(lambda x: 'tt' + str(x).zfill(7))",
   "id": "ba246cd9df751709",
   "outputs": [],
   "execution_count": 17
  },
  {
   "metadata": {
    "ExecuteTime": {
     "end_time": "2024-04-18T19:28:53.427226Z",
     "start_time": "2024-04-18T19:28:53.424696Z"
    }
   },
   "cell_type": "code",
   "source": [
    "import sqlite3\n",
    "conn = sqlite3.connect('../fastapi/query/movie.db')\n",
    "cursor = conn.cursor()"
   ],
   "id": "eed842efded50248",
   "outputs": [],
   "execution_count": 18
  },
  {
   "metadata": {
    "ExecuteTime": {
     "end_time": "2024-04-18T19:28:53.449721Z",
     "start_time": "2024-04-18T19:28:53.428015Z"
    }
   },
   "cell_type": "code",
   "source": "movie_id_in_db = pd.read_sql_query('SELECT MovieID FROM Movie', conn)",
   "id": "da8e99deda52ee6a",
   "outputs": [],
   "execution_count": 19
  },
  {
   "metadata": {
    "ExecuteTime": {
     "end_time": "2024-04-18T19:28:53.494741Z",
     "start_time": "2024-04-18T19:28:53.450483Z"
    }
   },
   "cell_type": "code",
   "source": "movie_tags = movie_tags[movie_tags['imdbId'].isin(movie_id_in_db['MovieID'])]",
   "id": "363f2fc533fd38e",
   "outputs": [],
   "execution_count": 20
  },
  {
   "metadata": {
    "ExecuteTime": {
     "end_time": "2024-04-18T19:28:53.577775Z",
     "start_time": "2024-04-18T19:28:53.495332Z"
    }
   },
   "cell_type": "code",
   "source": [
    "movie_tags_grouped = movie_tags.groupby('tag').agg({\n",
    "    'title': lambda x: ' | '.join(x), \n",
    "}).reset_index()"
   ],
   "id": "6ab848456fedaf86",
   "outputs": [],
   "execution_count": 21
  },
  {
   "metadata": {
    "ExecuteTime": {
     "end_time": "2024-04-18T19:28:53.755198Z",
     "start_time": "2024-04-18T19:28:53.578491Z"
    }
   },
   "cell_type": "code",
   "source": "movie_tags_grouped.to_csv('./tag_movies.csv', index=False)",
   "id": "c80565c5142b2c39",
   "outputs": [],
   "execution_count": 22
  },
  {
   "metadata": {
    "ExecuteTime": {
     "end_time": "2024-04-18T19:33:29.425849Z",
     "start_time": "2024-04-18T19:33:29.419181Z"
    }
   },
   "cell_type": "code",
   "source": [
    "import pandas as pd\n",
    "tag_prompt = pd.read_csv('./pg/tag_results.csv')"
   ],
   "id": "7a66d4d115e9385f",
   "outputs": [],
   "execution_count": 34
  },
  {
   "metadata": {
    "ExecuteTime": {
     "end_time": "2024-04-18T19:33:38.148906Z",
     "start_time": "2024-04-18T19:33:38.142720Z"
    }
   },
   "cell_type": "code",
   "source": "tag_prompt = pd.merge(tag_prompt, movie_tags_grouped, on='tag')",
   "id": "76ab865d7c9dcc00",
   "outputs": [],
   "execution_count": 35
  },
  {
   "metadata": {
    "ExecuteTime": {
     "end_time": "2024-04-18T19:34:13.888331Z",
     "start_time": "2024-04-18T19:34:13.883873Z"
    }
   },
   "cell_type": "code",
   "source": "tag_prompt['prompt'] = tag_prompt['prompt'].apply(lambda x: \"'\"+ x + \"'\")",
   "id": "c8523175c2eecb2b",
   "outputs": [],
   "execution_count": 36
  },
  {
   "metadata": {
    "ExecuteTime": {
     "end_time": "2024-04-18T19:34:46.822258Z",
     "start_time": "2024-04-18T19:34:46.810135Z"
    }
   },
   "cell_type": "code",
   "source": "tag_prompt['title'] = tag_prompt['title'].apply(lambda x: \"<<\"+ x + \">>\")",
   "id": "b8748d600d6f4f40",
   "outputs": [],
   "execution_count": 37
  },
  {
   "metadata": {
    "ExecuteTime": {
     "end_time": "2024-04-18T19:35:14.490546Z",
     "start_time": "2024-04-18T19:35:14.310439Z"
    }
   },
   "cell_type": "code",
   "source": "tag_prompt.to_csv('./pg/tag_prompt_titles.csv', index=False)",
   "id": "4e8e2a6e2fe041b1",
   "outputs": [],
   "execution_count": 38
  },
  {
   "metadata": {
    "ExecuteTime": {
     "end_time": "2024-04-18T20:06:18.512621Z",
     "start_time": "2024-04-18T20:06:18.509859Z"
    }
   },
   "cell_type": "code",
   "source": [
    "import re\n",
    "def check_format(text):\n",
    "    pattern = r'^Welcome to MovieSearch[\\s\\S]*?\\n- [^\\n]+'\n",
    "    return bool(re.match(pattern, text))"
   ],
   "id": "d32b72a97d02e5f1",
   "outputs": [],
   "execution_count": 45
  },
  {
   "metadata": {
    "ExecuteTime": {
     "end_time": "2024-04-18T20:06:19.212269Z",
     "start_time": "2024-04-18T20:06:19.207396Z"
    }
   },
   "cell_type": "code",
   "source": [
    "check_format(\"\"\"Welcome to MovieSearch. \n",
    "\n",
    "The James Bond film series is an iconic and long-running franchise, with the first film, Dr. No (1962), kicking off the phenomenon. The series follows the adventures of the British secret agent, 007, and has spanned decades with multiple actors portraying the titular character. Some of the most popular and well-known Bond films include:\n",
    "\n",
    "Goldfinger (1964) Skyfall (2012)\n",
    "- Casino Royale (2006)\n",
    "- GoldenEye (1995)\n",
    "- The Spy Who Loved Me (1977)\n",
    "\n",
    "The most recent addition to the series is No Time to Die (2021), which serves as a fitting conclusion to Daniel Craig's tenure as James Bond. \n",
    "\n",
    "Would you like me to suggest more spy-thriller movies similar to the 007 series?\"\"\")"
   ],
   "id": "c2335d2043c7ff95",
   "outputs": [
    {
     "data": {
      "text/plain": [
       "False"
      ]
     },
     "execution_count": 46,
     "metadata": {},
     "output_type": "execute_result"
    }
   ],
   "execution_count": 46
  },
  {
   "metadata": {},
   "cell_type": "code",
   "outputs": [],
   "execution_count": null,
   "source": "",
   "id": "7ebd84cd984d1145"
  }
 ],
 "metadata": {
  "kernelspec": {
   "display_name": "Python 3",
   "language": "python",
   "name": "python3"
  },
  "language_info": {
   "codemirror_mode": {
    "name": "ipython",
    "version": 2
   },
   "file_extension": ".py",
   "mimetype": "text/x-python",
   "name": "python",
   "nbconvert_exporter": "python",
   "pygments_lexer": "ipython2",
   "version": "2.7.6"
  }
 },
 "nbformat": 4,
 "nbformat_minor": 5
}
